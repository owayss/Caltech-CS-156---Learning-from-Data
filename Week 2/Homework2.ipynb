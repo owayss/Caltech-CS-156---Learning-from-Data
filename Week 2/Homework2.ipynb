{
 "cells": [
  {
   "cell_type": "markdown",
   "metadata": {},
   "source": [
    "Homework #2\n",
    "==========="
   ]
  },
  {
   "cell_type": "markdown",
   "metadata": {},
   "source": [
    "Hoeffding Inequality\n",
    "--------------------\n",
    "Run a computer simulation for fipping 1,000 virtual fair coins. Flip each coin independently 10 times. Focus on 3 coins as follows: $c_1$ is the first coin flipped, $c_{rand}$ is a\n",
    "coin chosen randomly from the 1,000, and $c_{min}$ is the coin which had the minimum\n",
    "frequency of heads (pick the earlier one in case of a tie). Let $v_1$, $v_{rand}$, and $v_{min}$ be\n",
    "the fraction of heads obtained for the 3 respective coins out of the 10 tosses.\n",
    "Run the experiment 100,000 times in order to get a full distribution of $v_1$, $v_{rand}$, and $v_{min}$ (note that $v_{rand}$ and $v_{min}$ will change from run to run)."
   ]
  },
  {
   "cell_type": "code",
   "execution_count": 6,
   "metadata": {
    "collapsed": false
   },
   "outputs": [
    {
     "data": {
      "text/plain": [
       "0.20000000000000004"
      ]
     },
     "execution_count": 6,
     "metadata": {},
     "output_type": "execute_result"
    }
   ],
   "source": [
    "N = 1000\n",
    "iters = 10\n",
    "times = 100000\n",
    "##run simulation 100000 times\n",
    "v1 = 0\n",
    "v = zeros(times, 3)\n",
    "for i=1:times\n",
    "    coins = rand(N, iters)    \n",
    "    v[i, 1] = length(find(coins[1] .>= 0.5)) / iters\n",
    "    v[i, 2] = length(find(coins[rand(1:N)] .>= 0.5)) / iters\n",
    "    #for j=1:N\n",
    "    vmins = [length(find(coins[j,:] .>= 0.5)) / iters for j in range(1,N)]\n",
    "    #end\n",
    "    v[i, 3] = minimum(x)\n",
    "end\n",
    "\n",
    "v_min = sum(v[:,3])/times"
   ]
  },
  {
   "cell_type": "markdown",
   "metadata": {},
   "source": [
    "1. The average value of $v_{min}$ is closest to:  \n",
    "$0.01$\n",
    "\n",
    "2. Which coin(s) has a distribution of $v$ that satisfies the (single-bin) Hoeffding\n",
    "Inequality?\n"
   ]
  },
  {
   "cell_type": "markdown",
   "metadata": {},
   "source": [
    "Linear Regression\n",
    "-----------------\n",
    "In these problems, we will explore how Linear Regression for classification works. As\n",
    "with the Perceptron Learning Algorithm in Homework # 1, you will create your own\n",
    "target function $f$ and data set $D$. Take $d = 2$ so you can visualize the problem, and\n",
    "assume $X = [-1, 1] \\in [-1, 1]$ with uniform probability of picking each $x \\in X$. In\n",
    "each run, choose a random line in the plane as your target function $f$ (do this by\n",
    "taking two random, uniformly distributed points in $[-1, 1]\\times[-1, 1]$ and taking the\n",
    "line passing through them), where one side of the line maps to +1 and the other maps\n",
    "to 􀀀1. Choose the inputs $x_n$ of the data set as random points (uniformly in $X$), and\n",
    "evaluate the target function on each $x_n$ to get the corresponding output $y_n$."
   ]
  },
  {
   "cell_type": "code",
   "execution_count": null,
   "metadata": {
    "collapsed": true
   },
   "outputs": [],
   "source": []
  },
  {
   "cell_type": "markdown",
   "metadata": {},
   "source": [
    "Take N = 100. Use Linear Regression to \f",
    "nd g and evaluate Ein, the fraction of\n",
    "in-sample points which got classi\f",
    "ed incorrectly. Repeat the experiment 1000\n",
    "times and take the average (keep the g's as they will be used again in Problem\n",
    "6). Which of the following values is closest to the average Ein? (Closest is the\n",
    "option that makes the expression jyour answer􀀀given optionj closest to 0. Use\n",
    "this de\f",
    "nition of closest here and throughout.)"
   ]
  },
  {
   "cell_type": "code",
   "execution_count": null,
   "metadata": {
    "collapsed": true
   },
   "outputs": [],
   "source": []
  }
 ],
 "metadata": {
  "kernelspec": {
   "display_name": "Julia 0.4.3",
   "language": "julia",
   "name": "julia-0.4"
  },
  "language_info": {
   "file_extension": ".jl",
   "mimetype": "application/julia",
   "name": "julia",
   "version": "0.4.3"
  }
 },
 "nbformat": 4,
 "nbformat_minor": 0
}
